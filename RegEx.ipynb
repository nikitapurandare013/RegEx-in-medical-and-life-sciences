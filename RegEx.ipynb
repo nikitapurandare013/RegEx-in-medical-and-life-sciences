{
 "cells": [
  {
   "cell_type": "markdown",
   "id": "90d32aac",
   "metadata": {},
   "source": [
    "# RegEx Use Cases"
   ]
  },
  {
   "cell_type": "markdown",
   "id": "1656201b",
   "metadata": {},
   "source": [
    "## 1. Finding Motifs in Genome Sequences"
   ]
  },
  {
   "cell_type": "markdown",
   "id": "bdd68f46",
   "metadata": {},
   "source": [
    "Let’s consider a DNA sequence `ATGCGATCGACGCTAGCGATCGCGATCGAGCGATCGCTAGCGATCGATCGCGATCG`. We can use regular expressions to search for a short sequence motif, such as `CGA`."
   ]
  },
  {
   "cell_type": "code",
   "execution_count": 53,
   "id": "11a76ebc",
   "metadata": {},
   "outputs": [
    {
     "name": "stdout",
     "output_type": "stream",
     "text": [
      "3 6\n",
      "7 10\n",
      "16 19\n",
      "22 25\n",
      "26 29\n",
      "30 33\n",
      "40 43\n",
      "44 47\n",
      "50 53\n"
     ]
    }
   ],
   "source": [
    "###### import re\n",
    "seq = \"ATGCGATCGACGCTAGCGATCGCGATCGAGCGATCGCTAGCGATCGATCGCGATCG\"\n",
    "motif = \"CGA\"\n",
    "pattern = re.compile(motif)\n",
    "matches = pattern.finditer(seq)\n",
    "for match in matches:\n",
    "   print(match.start(), match.end())"
   ]
  },
  {
   "cell_type": "markdown",
   "id": "46474cae",
   "metadata": {},
   "source": [
    "In the above example, we import the re module and define the DNA sequence and motif. Then, we use the re.finditer method to search for all matches of the motif in the DNA sequence, storing the match objects in a list."
   ]
  },
  {
   "cell_type": "markdown",
   "id": "493cce97",
   "metadata": {},
   "source": [
    "## 2. Finding Transcription Factor Binding Sites (TFBSs)"
   ]
  },
  {
   "cell_type": "markdown",
   "id": "b96061fc",
   "metadata": {},
   "source": [
    "###### Transcription factors are protein molecules that bind to specific sites on DNA sequences to initiate transcription."
   ]
  },
  {
   "cell_type": "markdown",
   "id": "6e1f1c9e",
   "metadata": {},
   "source": [
    "Let’s take the example of the binding site for the transcription factor USF1, which is defined by the following consensus sequence: `TCAGGTCA`. We can use the following regular expression to search for this binding site:"
   ]
  },
  {
   "cell_type": "code",
   "execution_count": 54,
   "id": "74ee311f",
   "metadata": {},
   "outputs": [
    {
     "name": "stdout",
     "output_type": "stream",
     "text": [
      "7 15\n",
      "27 35\n"
     ]
    }
   ],
   "source": [
    "import re\n",
    "seq = \"GCAGTGCTCAGGTCAACAGTGCTGAGCTCAGGTCA\"\n",
    "motif = \"TCAGGTCA\"\n",
    "pattern = re.compile(motif)\n",
    "matches = pattern.finditer(seq)\n",
    "for match in matches:\n",
    " print(match.start(), match.end())"
   ]
  },
  {
   "cell_type": "markdown",
   "id": "8d3fb280",
   "metadata": {},
   "source": [
    "In this example we define a DNA sequence seq and a consensus TFBS motif motif, then use re.compile and finditer to search for all motif matches in the sequence. The start and end methods of the match object provide the indices of the matches."
   ]
  },
  {
   "cell_type": "markdown",
   "id": "38b4b09f",
   "metadata": {},
   "source": [
    "## 3. Finding Open Reading Frames (ORFs)"
   ]
  },
  {
   "cell_type": "markdown",
   "id": "11e84a04",
   "metadata": {},
   "source": [
    "###### Open reading frames (ORFs) are regions of DNA that can be translated into proteins."
   ]
  },
  {
   "cell_type": "markdown",
   "id": "5ab437c7",
   "metadata": {},
   "source": [
    "A common method for identifying ORFs is to search for a start codon, such as `ATG`, followed by a series of codons, which can be any of the 64 possible codons. The ORF ends when a stop codon, such as `TAA`, `TAG`, or `TGA`, is encountered."
   ]
  },
  {
   "cell_type": "code",
   "execution_count": 78,
   "id": "431eee8e",
   "metadata": {},
   "outputs": [
    {
     "name": "stdout",
     "output_type": "stream",
     "text": [
      "0 21\n"
     ]
    }
   ],
   "source": [
    "import re\n",
    "seq = \"ATGCGATCGACGCTAGCGTAAATCGCGATCGAGCGATCGCTAGCGATCATGGATCGCGATCGTAAAGGCTACGTTGAGTCAGTAA\"\n",
    "start_codon = \"ATG\"\n",
    "stop_codons = [\"TAA\", \"TAG\", \"TGA\"]\n",
    "pattern = re.compile(start_codon + \"([ATGC]{3})*?(\" + \"|\".join(stop_codons) + \")\")\n",
    "matches = pattern.finditer(seq)\n",
    "for match in matches:\n",
    "   print(match.start(), match.end())"
   ]
  },
  {
   "cell_type": "markdown",
   "id": "3b1b1e5e",
   "metadata": {},
   "source": [
    "In this example, We define a DNA sequence, start codon, and stop codons, then compile a regex pattern to find ORFs starting with the start codon and ending with a stop codon. The finditer method locates all matches, and the start and end methods provide the indices of these ORFs."
   ]
  },
  {
   "cell_type": "markdown",
   "id": "c2b64285",
   "metadata": {},
   "source": [
    "## 4. Identifying Restriction Enzyme Recognition Sites"
   ]
  },
  {
   "cell_type": "markdown",
   "id": "c57097b8",
   "metadata": {},
   "source": [
    "###### Restriction enzymes are commonly used in molecular biology to cleave DNA at specific recognition sites."
   ]
  },
  {
   "cell_type": "code",
   "execution_count": 56,
   "id": "e8e59990",
   "metadata": {},
   "outputs": [
    {
     "name": "stdout",
     "output_type": "stream",
     "text": [
      "['GATATC']\n"
     ]
    }
   ],
   "source": [
    "import re\n",
    "seq = \"GATATCCTGACTGAACCTAGGTCCATGATTATGTACGAATTCCAGCTTTTACAAGGGTCCACTAGTCTAACAGAGGTCGCAGACGTT\"\n",
    "pattern = re.compile(r\"(GATATC)\")\n",
    "matches = pattern.findall(seq)\n",
    "print(matches)"
   ]
  },
  {
   "cell_type": "markdown",
   "id": "ad6392fb",
   "metadata": {},
   "source": [
    "In this example, We define a DNA sequence containing the EcoRV recognition site and use re.findall with the pattern “GATATC” to get all matching sites in the sequence."
   ]
  },
  {
   "cell_type": "markdown",
   "id": "1bf25652",
   "metadata": {},
   "source": [
    "## 5. Identifying Protein Motifs"
   ]
  },
  {
   "cell_type": "markdown",
   "id": "a2cc5558",
   "metadata": {},
   "source": [
    "###### Proteins often contain specific amino acid sequences, known as motifs, that are involved in their function or structure."
   ]
  },
  {
   "cell_type": "code",
   "execution_count": 57,
   "id": "a51f6c77",
   "metadata": {},
   "outputs": [
    {
     "name": "stdout",
     "output_type": "stream",
     "text": [
      "['VIHLLVD']\n"
     ]
    }
   ],
   "source": [
    "import re\n",
    "seq = \"MFDYKDDDDKGKRKLSAELGTYYTDKPKLPGDATASYQCLVTQVDIAKNTFIQTKITTGTLMYMAKSYQLFVRVKDNIIDKLVIHLLVDLVVKDDEIEFLVHAQKHFSTLKGVLITDPDNHLYEGLFDRDEMILAAIAGKSSEKQDDQVGYYCVSHRSADPKNLKYGMEMADDLSYVKYGPYHLIKMIEFPEHFRYTNLSSEKINS\"\n",
    "pattern = re.compile(r\"(VI\\w{2}L\\w{2})\")\n",
    "matches = pattern.findall(seq)\n",
    "print(matches)"
   ]
  },
  {
   "cell_type": "markdown",
   "id": "8b5b4519",
   "metadata": {},
   "source": [
    "In this example, We define a protein sequence seq with the \"VILL\" motif and create a regex pattern VI[A-Z]{2}L[A-Z]{2} to match sequences of the form “VIxxLxx,” where ‘x’ represents any amino acid. The findall method returns all matching motifs found in the sequence."
   ]
  },
  {
   "cell_type": "markdown",
   "id": "5bd191d0",
   "metadata": {},
   "source": [
    "## 6. Identifying Protein Domains"
   ]
  },
  {
   "cell_type": "markdown",
   "id": "5bd9b428",
   "metadata": {},
   "source": [
    "###### Proteins can be composed of multiple domains, which are regions of the protein that are independently folded and have specific functions."
   ]
  },
  {
   "cell_type": "code",
   "execution_count": 58,
   "id": "d4268a53",
   "metadata": {},
   "outputs": [
    {
     "name": "stdout",
     "output_type": "stream",
     "text": [
      "['SRA', 'SRG']\n"
     ]
    }
   ],
   "source": [
    "import re\n",
    "seq = \"MQYFLFLLGLITLGESRALVFQPNCWHVLGCSWPEITLVQEPRGVLEEFFGVNPAVCKPGYTYDDSTSTNMFVGGKLTIKTTEKGYGYEIGPRIYEISRGYGTDEGAQFLQAKSHTLHKYDSFIELPIDGVKRTQEHQIARWWGTPVIPSSAGGDADIGLGLGETGSIMVITAGASESRITLAPGLVEEAVFDGIIKGAFAGIDSSVMLLGGDYVVL\"\n",
    "pattern = re.compile(r\"(SR[AG])\")\n",
    "matches = pattern.findall(seq)\n",
    "print(matches)"
   ]
  },
  {
   "cell_type": "markdown",
   "id": "f8328568",
   "metadata": {},
   "source": [
    "In this example, We define a protein sequence seq containing the \"SR-rich\" domain and use the regex pattern SRA|SRS to find occurrences of these motifs, with findall returning all matches in the sequence."
   ]
  },
  {
   "cell_type": "markdown",
   "id": "534b6ead",
   "metadata": {},
   "source": [
    "## 7. Identifying MicroRNA Target Sites"
   ]
  },
  {
   "cell_type": "markdown",
   "id": "3e22405f",
   "metadata": {},
   "source": [
    "###### MicroRNAs are small non-coding RNAs that regulate gene expression by binding to target sequences in messenger RNAs."
   ]
  },
  {
   "cell_type": "code",
   "execution_count": 60,
   "id": "b8f705c8",
   "metadata": {},
   "outputs": [
    {
     "name": "stdout",
     "output_type": "stream",
     "text": [
      "['TGGGCCTCCA']\n"
     ]
    }
   ],
   "source": [
    "import re\n",
    "seq = \"ATGCTGAGCTGCATGAGATGGAGTGACCATCCTGTAGCTCACAGGATTTCCAGTGTTGTACCTGGGAGACTGGTGGGAAGGCCACAGGAACTCAAGGTATGGGGAGCATCTCATGGGCCTCCAAGTGATTAAGGACCTCTGGTGTGGCCTGCCCAAGTACCCATGGTGTTGGAGACCTGGAAGTCTTCAAGACAGAAGTGCTTGTCTCTTAA\"\n",
    "pattern = re.compile(r\"(TG\\w{6}CA)\")\n",
    "matches = pattern.findall(seq)\n",
    "print(matches)"
   ]
  },
  {
   "cell_type": "markdown",
   "id": "127f9e8e",
   "metadata": {},
   "source": [
    "In this example, We define a DNA sequence seq and use the regex pattern TG[A-T]{6}CA to match potential miRNA target sites where TG is followed by six bases and ends with CA, retrieving all matches with findall."
   ]
  },
  {
   "cell_type": "markdown",
   "id": "397497af",
   "metadata": {},
   "source": [
    "## 8. Identifying RNA Secondary Structure"
   ]
  },
  {
   "cell_type": "markdown",
   "id": "b86dc371",
   "metadata": {},
   "source": [
    "###### RNA molecules can fold into complex secondary structures that are important for their function."
   ]
  },
  {
   "cell_type": "code",
   "execution_count": 65,
   "id": "7633ff86",
   "metadata": {},
   "outputs": [
    {
     "name": "stdout",
     "output_type": "stream",
     "text": [
      "['CGCCGGG', 'UAU', 'GGCG', 'GCGCGCC', 'AAA', 'GCG', 'UAAA', 'UUU', 'UUUUUAA', 'GCG']\n"
     ]
    }
   ],
   "source": [
    "import re\n",
    "seq = \"CACGCCGGGUCCACUGUACCAGGUAUCAGUGGAGGCGAAGCGCGCCUUGAAACAGCUGCGUAAAGCUUUCGUUUUUAAGCGU\"\n",
    "pattern = re.compile(r\"((?:G|C){3,}|(?:A|U){3,})\")\n",
    "matches = pattern.findall(seq)\n",
    "print(matches)"
   ]
  },
  {
   "cell_type": "markdown",
   "id": "719dae88",
   "metadata": {},
   "source": [
    "We define an RNA sequence seq and use the regex pattern ((?:G|C){3,}|(?:A|U){3,}) to match potential stem-loop structures with three or more consecutive Gs/Cs or As/Us. The findall method retrieves all matching structures in the sequence."
   ]
  },
  {
   "cell_type": "markdown",
   "id": "f63c315a",
   "metadata": {},
   "source": [
    "## 9. Identifying Conserved Protein Motifs"
   ]
  },
  {
   "cell_type": "code",
   "execution_count": 66,
   "id": "71c5ebda",
   "metadata": {},
   "outputs": [
    {
     "name": "stdout",
     "output_type": "stream",
     "text": [
      "['LVLYL']\n"
     ]
    }
   ],
   "source": [
    "import re\n",
    "seq = \"MCDPALVRYKSIELRDDKGPLVLYLSQGRRSGVLGLVRFSSLGGNMQGRKNLISENNNSYWYRSFEVKSRLDLDAASGIFVHLGDSQEAPFPTGLLVQNTIIFKKLGGSAHAFYNTYDWDITQELIDGVIACSRGHNEAWHKLW\"\n",
    "pattern = re.compile(r\"(L.{1,3}L.{1,3}L)\")\n",
    "matches = pattern.findall(seq)\n",
    "print(matches)"
   ]
  },
  {
   "cell_type": "markdown",
   "id": "39727de1",
   "metadata": {},
   "source": [
    "We define a protein sequence seq and use the regex pattern (L.{1,3}L.{1,3}L) to match conserved motifs with leucines separated by up to three arbitrary residues, retrieving all matches with findall."
   ]
  },
  {
   "cell_type": "code",
   "execution_count": null,
   "id": "2a99e286",
   "metadata": {},
   "outputs": [],
   "source": []
  },
  {
   "cell_type": "code",
   "execution_count": null,
   "id": "f35d3552",
   "metadata": {},
   "outputs": [],
   "source": []
  }
 ],
 "metadata": {
  "kernelspec": {
   "display_name": "Python 3 (ipykernel)",
   "language": "python",
   "name": "python3"
  },
  "language_info": {
   "codemirror_mode": {
    "name": "ipython",
    "version": 3
   },
   "file_extension": ".py",
   "mimetype": "text/x-python",
   "name": "python",
   "nbconvert_exporter": "python",
   "pygments_lexer": "ipython3",
   "version": "3.9.13"
  }
 },
 "nbformat": 4,
 "nbformat_minor": 5
}
